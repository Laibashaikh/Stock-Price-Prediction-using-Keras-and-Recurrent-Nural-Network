{
 "cells": [
  {
   "cell_type": "code",
   "execution_count": 1,
   "id": "d894bdd3",
   "metadata": {},
   "outputs": [],
   "source": [
    "# Recurrent Neural Network\n"
   ]
  },
  {
   "cell_type": "code",
   "execution_count": 2,
   "id": "42c3b7b2",
   "metadata": {},
   "outputs": [],
   "source": [
    "# Part 1 - Data Preprocessing\n",
    "\n",
    "# Importing the libraries\n",
    "import numpy as np\n",
    "import matplotlib.pyplot as plt\n",
    "import pandas as pd"
   ]
  },
  {
   "cell_type": "code",
   "execution_count": 3,
   "id": "c3859f01",
   "metadata": {},
   "outputs": [],
   "source": [
    "# Importing the training set\n",
    "dataset_train = pd.read_csv('Google_Stock_Price_Train.csv')\n",
    "training_set = dataset_train.iloc[:, 1:2]"
   ]
  },
  {
   "cell_type": "code",
   "execution_count": 4,
   "id": "67db4e76",
   "metadata": {},
   "outputs": [],
   "source": [
    "# Feature Scaling\n",
    "from sklearn.preprocessing import MinMaxScaler\n",
    "sc = MinMaxScaler(feature_range = (0, 1))\n",
    "training_set_scaled = sc.fit_transform(training_set)\n"
   ]
  },
  {
   "cell_type": "code",
   "execution_count": 5,
   "id": "1864810e",
   "metadata": {},
   "outputs": [],
   "source": [
    "# Creating a data structure with 60 timesteps and 1 output\n",
    "X_train = []\n",
    "y_train = []\n",
    "for i in range(60, 1258):\n",
    "    X_train.append(training_set_scaled[i-60:i, 0])\n",
    "    y_train.append(training_set_scaled[i, 0])\n",
    "X_train, y_train = np.array(X_train), np.array(y_train)"
   ]
  },
  {
   "cell_type": "code",
   "execution_count": 6,
   "id": "cd632a51",
   "metadata": {},
   "outputs": [],
   "source": [
    "# Reshaping\n",
    "X_train = np.reshape(X_train, (X_train.shape[0], X_train.shape[1], 1))"
   ]
  },
  {
   "cell_type": "code",
   "execution_count": 7,
   "id": "ea839dae",
   "metadata": {},
   "outputs": [],
   "source": [
    "# Part 2 - Building the RNN\n",
    "\n",
    "# Importing the Keras libraries and packages\n",
    "from keras.models import Sequential\n",
    "from keras.layers import Dense\n",
    "from keras.layers import LSTM\n",
    "from keras.layers import Dropout"
   ]
  },
  {
   "cell_type": "code",
   "execution_count": 8,
   "id": "90eae271",
   "metadata": {},
   "outputs": [],
   "source": [
    "# Initialising the RNN\n",
    "regressor = Sequential()"
   ]
  },
  {
   "cell_type": "code",
   "execution_count": 9,
   "id": "4dfb2854",
   "metadata": {},
   "outputs": [],
   "source": [
    "\n",
    "# Adding the first LSTM layer and some Dropout regularisation\n",
    "regressor.add(LSTM(units = 50, return_sequences = True, input_shape = (X_train.shape[1], 1)))\n",
    "regressor.add(Dropout(0.2))"
   ]
  },
  {
   "cell_type": "code",
   "execution_count": 10,
   "id": "b4bacd2d",
   "metadata": {},
   "outputs": [],
   "source": [
    "# Adding a second LSTM layer and some Dropout regularisation\n",
    "regressor.add(LSTM(units = 50, return_sequences = True))\n",
    "regressor.add(Dropout(0.2))\n"
   ]
  },
  {
   "cell_type": "code",
   "execution_count": 11,
   "id": "aadeecfb",
   "metadata": {},
   "outputs": [],
   "source": [
    "# Adding a third LSTM layer and some Dropout regularisation\n",
    "regressor.add(LSTM(units = 50, return_sequences = True))\n",
    "regressor.add(Dropout(0.2))\n"
   ]
  },
  {
   "cell_type": "code",
   "execution_count": 12,
   "id": "097ca920",
   "metadata": {},
   "outputs": [],
   "source": [
    "# Adding a fourth LSTM layer and some Dropout regularisation\n",
    "regressor.add(LSTM(units = 50))\n",
    "regressor.add(Dropout(0.2))"
   ]
  },
  {
   "cell_type": "code",
   "execution_count": 13,
   "id": "0f050326",
   "metadata": {},
   "outputs": [],
   "source": [
    "# Adding the output layer\n",
    "regressor.add(Dense(units = 1))"
   ]
  },
  {
   "cell_type": "code",
   "execution_count": 14,
   "id": "28b780a3",
   "metadata": {},
   "outputs": [],
   "source": [
    "# Compiling the RNN\n",
    "regressor.compile(optimizer = 'adam', loss = 'mean_squared_error')"
   ]
  },
  {
   "cell_type": "code",
   "execution_count": 15,
   "id": "c9f60ea5",
   "metadata": {},
   "outputs": [
    {
     "name": "stdout",
     "output_type": "stream",
     "text": [
      "Epoch 1/100\n",
      "38/38 [==============================] - 15s 119ms/step - loss: 0.0385\n",
      "Epoch 2/100\n",
      "38/38 [==============================] - 5s 122ms/step - loss: 0.0054\n",
      "Epoch 3/100\n",
      "38/38 [==============================] - 4s 113ms/step - loss: 0.0054\n",
      "Epoch 4/100\n",
      "38/38 [==============================] - 4s 117ms/step - loss: 0.0054\n",
      "Epoch 5/100\n",
      "38/38 [==============================] - 4s 111ms/step - loss: 0.0048\n",
      "Epoch 6/100\n",
      "38/38 [==============================] - 5s 123ms/step - loss: 0.0045\n",
      "Epoch 7/100\n",
      "38/38 [==============================] - 5s 133ms/step - loss: 0.0040\n",
      "Epoch 8/100\n",
      "38/38 [==============================] - 5s 125ms/step - loss: 0.0052\n",
      "Epoch 9/100\n",
      "38/38 [==============================] - 4s 112ms/step - loss: 0.0042\n",
      "Epoch 10/100\n",
      "38/38 [==============================] - 5s 145ms/step - loss: 0.0039\n",
      "Epoch 11/100\n",
      "38/38 [==============================] - 5s 136ms/step - loss: 0.0038\n",
      "Epoch 12/100\n",
      "38/38 [==============================] - 5s 142ms/step - loss: 0.0039\n",
      "Epoch 13/100\n",
      "38/38 [==============================] - 5s 119ms/step - loss: 0.0044\n",
      "Epoch 14/100\n",
      "38/38 [==============================] - 4s 110ms/step - loss: 0.0039\n",
      "Epoch 15/100\n",
      "38/38 [==============================] - 4s 116ms/step - loss: 0.0038\n",
      "Epoch 16/100\n",
      "38/38 [==============================] - 4s 114ms/step - loss: 0.0043\n",
      "Epoch 17/100\n",
      "38/38 [==============================] - 5s 126ms/step - loss: 0.0038\n",
      "Epoch 18/100\n",
      "38/38 [==============================] - 5s 120ms/step - loss: 0.0036\n",
      "Epoch 19/100\n",
      "38/38 [==============================] - 4s 116ms/step - loss: 0.0037\n",
      "Epoch 20/100\n",
      "38/38 [==============================] - 5s 119ms/step - loss: 0.0039\n",
      "Epoch 21/100\n",
      "38/38 [==============================] - 5s 119ms/step - loss: 0.0036\n",
      "Epoch 22/100\n",
      "38/38 [==============================] - 4s 112ms/step - loss: 0.0037\n",
      "Epoch 23/100\n",
      "38/38 [==============================] - 4s 114ms/step - loss: 0.0033\n",
      "Epoch 24/100\n",
      "38/38 [==============================] - 4s 115ms/step - loss: 0.0029\n",
      "Epoch 25/100\n",
      "38/38 [==============================] - 4s 117ms/step - loss: 0.0031\n",
      "Epoch 26/100\n",
      "38/38 [==============================] - 5s 126ms/step - loss: 0.0030\n",
      "Epoch 27/100\n",
      "38/38 [==============================] - 5s 127ms/step - loss: 0.0030\n",
      "Epoch 28/100\n",
      "38/38 [==============================] - 5s 128ms/step - loss: 0.0029\n",
      "Epoch 29/100\n",
      "38/38 [==============================] - 5s 126ms/step - loss: 0.0030\n",
      "Epoch 30/100\n",
      "38/38 [==============================] - 5s 123ms/step - loss: 0.0032\n",
      "Epoch 31/100\n",
      "38/38 [==============================] - 5s 121ms/step - loss: 0.0032\n",
      "Epoch 32/100\n",
      "38/38 [==============================] - 6s 151ms/step - loss: 0.0029\n",
      "Epoch 33/100\n",
      "38/38 [==============================] - 6s 165ms/step - loss: 0.0029\n",
      "Epoch 34/100\n",
      "38/38 [==============================] - 7s 172ms/step - loss: 0.0028\n",
      "Epoch 35/100\n",
      "38/38 [==============================] - 5s 143ms/step - loss: 0.0029\n",
      "Epoch 36/100\n",
      "38/38 [==============================] - 5s 134ms/step - loss: 0.0031\n",
      "Epoch 37/100\n",
      "38/38 [==============================] - 5s 131ms/step - loss: 0.0026\n",
      "Epoch 38/100\n",
      "38/38 [==============================] - 4s 118ms/step - loss: 0.0032\n",
      "Epoch 39/100\n",
      "38/38 [==============================] - 4s 110ms/step - loss: 0.0032\n",
      "Epoch 40/100\n",
      "38/38 [==============================] - 5s 129ms/step - loss: 0.0026\n",
      "Epoch 41/100\n",
      "38/38 [==============================] - 5s 122ms/step - loss: 0.0026\n",
      "Epoch 42/100\n",
      "38/38 [==============================] - 4s 117ms/step - loss: 0.0024\n",
      "Epoch 43/100\n",
      "38/38 [==============================] - 4s 113ms/step - loss: 0.0027\n",
      "Epoch 44/100\n",
      "38/38 [==============================] - 4s 112ms/step - loss: 0.0024\n",
      "Epoch 45/100\n",
      "38/38 [==============================] - 4s 115ms/step - loss: 0.0024\n",
      "Epoch 46/100\n",
      "38/38 [==============================] - 4s 113ms/step - loss: 0.0026\n",
      "Epoch 47/100\n",
      "38/38 [==============================] - 4s 114ms/step - loss: 0.0027\n",
      "Epoch 48/100\n",
      "38/38 [==============================] - 4s 117ms/step - loss: 0.0024\n",
      "Epoch 49/100\n",
      "38/38 [==============================] - 4s 113ms/step - loss: 0.0023\n",
      "Epoch 50/100\n",
      "38/38 [==============================] - 4s 112ms/step - loss: 0.0022\n",
      "Epoch 51/100\n",
      "38/38 [==============================] - 4s 108ms/step - loss: 0.0026\n",
      "Epoch 52/100\n",
      "38/38 [==============================] - 4s 110ms/step - loss: 0.0026\n",
      "Epoch 53/100\n",
      "38/38 [==============================] - 4s 111ms/step - loss: 0.0028\n",
      "Epoch 54/100\n",
      "38/38 [==============================] - 4s 111ms/step - loss: 0.0022\n",
      "Epoch 55/100\n",
      "38/38 [==============================] - 4s 110ms/step - loss: 0.0020\n",
      "Epoch 56/100\n",
      "38/38 [==============================] - 4s 110ms/step - loss: 0.0024\n",
      "Epoch 57/100\n",
      "38/38 [==============================] - 4s 110ms/step - loss: 0.0021\n",
      "Epoch 58/100\n",
      "38/38 [==============================] - 4s 113ms/step - loss: 0.0021\n",
      "Epoch 59/100\n",
      "38/38 [==============================] - 4s 112ms/step - loss: 0.0019\n",
      "Epoch 60/100\n",
      "38/38 [==============================] - 4s 113ms/step - loss: 0.0021\n",
      "Epoch 61/100\n",
      "38/38 [==============================] - 4s 111ms/step - loss: 0.0020\n",
      "Epoch 62/100\n",
      "38/38 [==============================] - 4s 110ms/step - loss: 0.0022\n",
      "Epoch 63/100\n",
      "38/38 [==============================] - 4s 107ms/step - loss: 0.0020\n",
      "Epoch 64/100\n",
      "38/38 [==============================] - 4s 108ms/step - loss: 0.0019\n",
      "Epoch 65/100\n",
      "38/38 [==============================] - 4s 106ms/step - loss: 0.0023\n",
      "Epoch 66/100\n",
      "38/38 [==============================] - 4s 107ms/step - loss: 0.0020\n",
      "Epoch 67/100\n",
      "38/38 [==============================] - 4s 111ms/step - loss: 0.0020\n",
      "Epoch 68/100\n",
      "38/38 [==============================] - 4s 114ms/step - loss: 0.0019\n",
      "Epoch 69/100\n",
      "38/38 [==============================] - 4s 116ms/step - loss: 0.0018\n",
      "Epoch 70/100\n",
      "38/38 [==============================] - 4s 112ms/step - loss: 0.0016\n",
      "Epoch 71/100\n",
      "38/38 [==============================] - 4s 111ms/step - loss: 0.0019\n",
      "Epoch 72/100\n",
      "38/38 [==============================] - 4s 110ms/step - loss: 0.0016\n",
      "Epoch 73/100\n",
      "38/38 [==============================] - 4s 117ms/step - loss: 0.0017\n",
      "Epoch 74/100\n",
      "38/38 [==============================] - 4s 114ms/step - loss: 0.0019\n",
      "Epoch 75/100\n",
      "38/38 [==============================] - 4s 115ms/step - loss: 0.0017\n",
      "Epoch 76/100\n",
      "38/38 [==============================] - 5s 119ms/step - loss: 0.0017\n",
      "Epoch 77/100\n",
      "38/38 [==============================] - 5s 122ms/step - loss: 0.0015\n",
      "Epoch 78/100\n",
      "38/38 [==============================] - 5s 123ms/step - loss: 0.0018\n",
      "Epoch 79/100\n",
      "38/38 [==============================] - 4s 117ms/step - loss: 0.0016\n",
      "Epoch 80/100\n",
      "38/38 [==============================] - 4s 114ms/step - loss: 0.0017\n",
      "Epoch 81/100\n",
      "38/38 [==============================] - 4s 116ms/step - loss: 0.0017\n",
      "Epoch 82/100\n",
      "38/38 [==============================] - 5s 119ms/step - loss: 0.0016\n",
      "Epoch 83/100\n",
      "38/38 [==============================] - 4s 117ms/step - loss: 0.0016\n",
      "Epoch 84/100\n",
      "38/38 [==============================] - 4s 112ms/step - loss: 0.0017\n",
      "Epoch 85/100\n",
      "38/38 [==============================] - 4s 115ms/step - loss: 0.0016\n",
      "Epoch 86/100\n",
      "38/38 [==============================] - 4s 110ms/step - loss: 0.0016\n",
      "Epoch 87/100\n",
      "38/38 [==============================] - 4s 110ms/step - loss: 0.0018\n",
      "Epoch 88/100\n",
      "38/38 [==============================] - 4s 116ms/step - loss: 0.0015\n",
      "Epoch 89/100\n",
      "38/38 [==============================] - 4s 113ms/step - loss: 0.0016\n",
      "Epoch 90/100\n",
      "38/38 [==============================] - 4s 115ms/step - loss: 0.0016\n",
      "Epoch 91/100\n",
      "38/38 [==============================] - 5s 119ms/step - loss: 0.0014\n",
      "Epoch 92/100\n",
      "38/38 [==============================] - 4s 115ms/step - loss: 0.0016\n",
      "Epoch 93/100\n",
      "38/38 [==============================] - 4s 114ms/step - loss: 0.0016\n",
      "Epoch 94/100\n",
      "38/38 [==============================] - 5s 126ms/step - loss: 0.0014\n",
      "Epoch 95/100\n",
      "38/38 [==============================] - 5s 120ms/step - loss: 0.0015\n",
      "Epoch 96/100\n",
      "38/38 [==============================] - 4s 117ms/step - loss: 0.0013\n",
      "Epoch 97/100\n",
      "38/38 [==============================] - 4s 112ms/step - loss: 0.0015\n",
      "Epoch 98/100\n",
      "38/38 [==============================] - 4s 112ms/step - loss: 0.0014\n",
      "Epoch 99/100\n",
      "38/38 [==============================] - 4s 112ms/step - loss: 0.0015\n",
      "Epoch 100/100\n",
      "38/38 [==============================] - 4s 112ms/step - loss: 0.0016\n"
     ]
    },
    {
     "data": {
      "text/plain": [
       "<keras.callbacks.History at 0x17a1e3c3fd0>"
      ]
     },
     "execution_count": 15,
     "metadata": {},
     "output_type": "execute_result"
    }
   ],
   "source": [
    "# Fitting the RNN to the Training set\n",
    "regressor.fit(X_train, y_train, epochs = 100, batch_size = 32)\n"
   ]
  },
  {
   "cell_type": "code",
   "execution_count": 16,
   "id": "953de193",
   "metadata": {},
   "outputs": [],
   "source": [
    "# Part 3 - Making the predictions and visualising the results\n",
    "\n",
    "# Getting the real stock price of 2017\n",
    "dataset_test = pd.read_csv('Google_Stock_Price_Test.csv')\n",
    "real_stock_price = dataset_test.iloc[:, 1:2]\n"
   ]
  },
  {
   "cell_type": "code",
   "execution_count": 17,
   "id": "d46934f3",
   "metadata": {},
   "outputs": [
    {
     "name": "stderr",
     "output_type": "stream",
     "text": [
      "C:\\ProgramData\\Anaconda3\\lib\\site-packages\\sklearn\\base.py:450: UserWarning: X does not have valid feature names, but MinMaxScaler was fitted with feature names\n",
      "  warnings.warn(\n"
     ]
    },
    {
     "name": "stdout",
     "output_type": "stream",
     "text": [
      "1/1 [==============================] - 2s 2s/step\n"
     ]
    }
   ],
   "source": [
    "# Getting the predicted stock price of 2017\n",
    "dataset_total = pd.concat((dataset_train['Open'], dataset_test['Open']), axis = 0)\n",
    "inputs = dataset_total[len(dataset_total) - len(dataset_test) - 60:].values\n",
    "inputs = inputs.reshape(-1,1)\n",
    "inputs = sc.transform(inputs)\n",
    "X_test = []\n",
    "for i in range(60, 80):\n",
    "    X_test.append(inputs[i-60:i, 0])\n",
    "X_test = np.array(X_test)\n",
    "X_test = np.reshape(X_test, (X_test.shape[0], X_test.shape[1], 1))\n",
    "predicted_stock_price = regressor.predict(X_test)\n",
    "predicted_stock_price = sc.inverse_transform(predicted_stock_price)"
   ]
  },
  {
   "cell_type": "code",
   "execution_count": 18,
   "id": "d157f9b6",
   "metadata": {},
   "outputs": [
    {
     "data": {
      "image/png": "[encoded data removed]",
      "text/plain": [
       "<Figure size 640x480 with 1 Axes>"
      ]
     },
     "metadata": {},
     "output_type": "display_data"
    }
   ],
   "source": [
    "# Visualising the results\n",
    "plt.plot(real_stock_price, color = 'red', label = 'Real Google Stock Price')\n",
    "plt.plot(predicted_stock_price, color = 'blue', label = 'Predicted Google Stock Price')\n",
    "plt.title('Google Stock Price Prediction')\n",
    "plt.xlabel('Time')\n",
    "plt.ylabel('Google Stock Price')\n",
    "plt.legend()\n",
    "plt.show()"
   ]
  },
  {
   "cell_type": "code",
   "execution_count": null,
   "id": "e3194934",
   "metadata": {},
   "outputs": [],
   "source": []
  },
  {
   "cell_type": "code",
   "execution_count": null,
   "id": "7dc739ea",
   "metadata": {},
   "outputs": [],
   "source": []
  },
  {
   "cell_type": "code",
   "execution_count": null,
   "id": "f4f08d60",
   "metadata": {},
   "outputs": [],
   "source": []
  },
  {
   "cell_type": "code",
   "execution_count": null,
   "id": "b5159a1d",
   "metadata": {},
   "outputs": [],
   "source": []
  },
  {
   "cell_type": "code",
   "execution_count": null,
   "id": "3dd64ab6",
   "metadata": {},
   "outputs": [],
   "source": []
  }
 ],
 "metadata": {
  "kernelspec": {
   "display_name": "Python 3 (ipykernel)",
   "language": "python",
   "name": "python3"
  },
  "language_info": {
   "codemirror_mode": {
    "name": "ipython",
    "version": 3
   },
   "file_extension": ".py",
   "mimetype": "text/x-python",
   "name": "python",
   "nbconvert_exporter": "python",
   "pygments_lexer": "ipython3",
   "version": "3.9.13"
  }
 },
 "nbformat": 4,
 "nbformat_minor": 5
}
